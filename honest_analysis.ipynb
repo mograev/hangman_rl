{
 "cells": [
  {
   "cell_type": "markdown",
   "metadata": {},
   "source": [
    "# Analysis of *honest* case\n",
    "\n",
    "### Problem description\n",
    "\n",
    "In this notebook, we analyze the policy in the case, where the environment (so the second player) is honest."
   ]
  },
  {
   "cell_type": "code",
   "execution_count": 1,
   "metadata": {},
   "outputs": [],
   "source": [
    "from env import Hangman\n",
    "from network import NNAgent, Network"
   ]
  },
  {
   "cell_type": "code",
   "execution_count": 2,
   "metadata": {},
   "outputs": [],
   "source": [
    "policy_network = Network()\n",
    "policy_network.load_weights('policy.h5') #input p\n",
    "player = NNAgent(policy_network)\n",
    "player.eval() #setting to evaluation state so the agent will not memorize play history."
   ]
  },
  {
   "cell_type": "code",
   "execution_count": 3,
   "metadata": {},
   "outputs": [],
   "source": [
    "player.reset_guessed()"
   ]
  },
  {
   "cell_type": "code",
   "execution_count": 4,
   "metadata": {},
   "outputs": [],
   "source": [
    "max_lives = 8"
   ]
  },
  {
   "cell_type": "code",
   "execution_count": 5,
   "metadata": {},
   "outputs": [
    {
     "name": "stdout",
     "output_type": "stream",
     "text": [
      "Guessing e\n",
      ">>  -e----e-  |   8\n",
      "Guessing r\n",
      ">>  -e-r--e-  |   8\n",
      "Guessing d\n",
      ">>  -e-r--e-  |   7\n",
      "Guessing a\n",
      ">>  -ear--e-  |   7\n",
      "Guessing s\n",
      ">>  sear--es  |   7\n",
      "Guessing i\n",
      ">>  sear--es  |   6\n",
      "Guessing h\n",
      ">>  sear-hes  |   6\n",
      "Guessing c\n",
      ">>  searches  |   6\n",
      "\n"
     ]
    }
   ],
   "source": [
    "# test setup\n",
    "env = Hangman('top_10000_frequent_words.txt' , max_lives = 8, verbose = False)\n",
    "\n",
    "done = False\n",
    "state = env.reset()\n",
    "\n",
    "while not done :\n",
    "    guess = player.select_action(state)\n",
    "    print('Guessing', guess)\n",
    "    state, _ , done , _ = env.step(guess)\n",
    "    print(f\">>  {state}  |   {env.get_current_live()}\")\n",
    "print()\n",
    "    \n",
    "player.reset_guessed()"
   ]
  },
  {
   "cell_type": "markdown",
   "metadata": {},
   "source": [
    "## Guessing score"
   ]
  },
  {
   "cell_type": "markdown",
   "metadata": {},
   "source": [
    "Derive how many words are guessed correctly using the top 10000 frequent words."
   ]
  },
  {
   "cell_type": "code",
   "execution_count": 11,
   "metadata": {},
   "outputs": [
    {
     "name": "stderr",
     "output_type": "stream",
     "text": [
      "100it [00:54,  1.83it/s]\n"
     ]
    }
   ],
   "source": [
    "from tqdm import tqdm\n",
    "\n",
    "# (re-)initialize the environment\n",
    "env = Hangman('top_10000_frequent_words.txt' , max_lives = 8, verbose = False)\n",
    "player.reset_guessed()\n",
    "\n",
    "# count the number of correct guesses\n",
    "correct = 0\n",
    "\n",
    "# loop through all the words\n",
    "for word in tqdm(reversed(env.words[-100:])): # tqdm(env.words):\n",
    "    # reset the environment\n",
    "    state = env.reset(word)\n",
    "    done = False\n",
    "    # play the game\n",
    "    while not done:\n",
    "        guess = player.select_action(state)\n",
    "        state, _ , done , _ = env.step(guess)\n",
    "    # check if the word is guessed correctly\n",
    "    if env.is_game_won():\n",
    "        correct += 1\n",
    "    player.reset_guessed()"
   ]
  },
  {
   "cell_type": "markdown",
   "metadata": {},
   "source": [
    "Percentage of correct guesses:"
   ]
  },
  {
   "cell_type": "markdown",
   "metadata": {},
   "source": [
    "## Archive\n",
    "\n",
    "Hyperparameter analysis. Not useful if the model is already trained."
   ]
  },
  {
   "cell_type": "code",
   "execution_count": null,
   "metadata": {},
   "outputs": [],
   "source": [
    "from tqdm.auto import tqdm\n",
    "from itertools import product\n",
    "import numpy as np\n",
    "\n",
    "# hyperparameters\n",
    "hyperparameters = {\n",
    "    'lives': [6, 8, 10],\n",
    "    'win_reward': [10, 30, 100],\n",
    "    'correct_reward': [0, 1, 10],\n",
    "    'lose_reward': [-0, -1],\n",
    "    'false_reward': [-0, -1],\n",
    "    'repeated_guessing_penalty': [-0, -100]\n",
    "}\n",
    "\n",
    "# results dictionary for all hyperparameter combinations\n",
    "results = {}\n",
    "\n",
    "# evalute over 1000 samples for different hyperparameters\n",
    "for hyp_setting in tqdm(product(*hyperparameters.values())):\n",
    "    env = Hangman(\n",
    "        'top_10000_frequent_words.txt',\n",
    "        max_lives=hyp_setting[0],\n",
    "        win_reward=hyp_setting[1],\n",
    "        correct_reward=hyp_setting[2],\n",
    "        lose_reward=hyp_setting[3],\n",
    "        false_reward=hyp_setting[4],\n",
    "        repeated_guessing_penalty=hyp_setting[5],\n",
    "        verbose=False\n",
    "    )    \n",
    "    reward_list = []\n",
    "    for i in range(50):\n",
    "        done = False\n",
    "        state = env.reset()\n",
    "        # make guesses until game is done, save the reward\n",
    "        cum_reward = 0\n",
    "        while not done :\n",
    "            guess = player.select_action(state)\n",
    "            state, reward, done , _ = env.step(guess)\n",
    "            cum_reward += reward\n",
    "        player.reset_guessed()\n",
    "        # save reward\n",
    "        reward_list.append(cum_reward)\n",
    "    # for each hyperparameter combination, save the mean and std of reward\n",
    "    results[hyp_setting] = (np.mean(reward_list), np.std(reward_list))"
   ]
  }
 ],
 "metadata": {
  "kernelspec": {
   "display_name": "rl",
   "language": "python",
   "name": "python3"
  },
  "language_info": {
   "codemirror_mode": {
    "name": "ipython",
    "version": 3
   },
   "file_extension": ".py",
   "mimetype": "text/x-python",
   "name": "python",
   "nbconvert_exporter": "python",
   "pygments_lexer": "ipython3",
   "version": "3.12.7"
  }
 },
 "nbformat": 4,
 "nbformat_minor": 2
}
