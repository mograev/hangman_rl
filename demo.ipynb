{
 "cells": [
  {
   "cell_type": "markdown",
   "metadata": {},
   "source": [
    "# Demo Notebook\n",
    "\n",
    "In this notebook I will show an example of a trained model playing a game of hangman"
   ]
  },
  {
   "cell_type": "code",
   "execution_count": 1,
   "metadata": {},
   "outputs": [],
   "source": [
    "from env import Hangman\n",
    "from network import NNAgent, Network"
   ]
  },
  {
   "cell_type": "markdown",
   "metadata": {},
   "source": [
    "Network and Agent are put as different instances since I want to make Agent base class to be able to generalize for different approaches as long as the new agent class have get_probs method that will output the probability given state of the board."
   ]
  },
  {
   "cell_type": "code",
   "execution_count": 2,
   "metadata": {},
   "outputs": [],
   "source": [
    "policy_network = Network()\n",
    "policy_network.load_weights('policy.h5') #input p\n",
    "player = NNAgent(policy_network)\n",
    "player.eval() #setting to evaluation state so the agent will not memorize play history."
   ]
  },
  {
   "cell_type": "code",
   "execution_count": 3,
   "metadata": {},
   "outputs": [],
   "source": [
    "player.reset_guessed()"
   ]
  },
  {
   "cell_type": "code",
   "execution_count": 4,
   "metadata": {},
   "outputs": [],
   "source": [
    "max_lives = 8\n",
    "env = Hangman('words.txt' , max_lives = 8, verbose = True)"
   ]
  },
  {
   "cell_type": "code",
   "execution_count": 6,
   "metadata": {},
   "outputs": [
    {
     "name": "stdout",
     "output_type": "stream",
     "text": [
      "Game Starting\n",
      "Current live : 8\n",
      "----\n",
      "\n",
      "Guessing a\n",
      "--a-\n",
      "\n",
      "Guessing r\n",
      "Current lives : 7\n",
      "--a-\n",
      "\n",
      "Guessing l\n",
      "Current lives : 6\n",
      "--a-\n",
      "\n",
      "Guessing s\n",
      "Current lives : 5\n",
      "--a-\n",
      "\n",
      "Guessing h\n",
      "-ha-\n",
      "\n",
      "Guessing c\n",
      "Current lives : 4\n",
      "-ha-\n",
      "\n",
      "Guessing t\n",
      "You Win\n",
      "Word is that\n"
     ]
    }
   ],
   "source": [
    "done = False\n",
    "state = env.reset()\n",
    "\n",
    "while not done :\n",
    "    guess = player.select_action(state)\n",
    "    print('Guessing', guess)\n",
    "    state, _ , done , _ = env.step(guess)\n",
    "    \n",
    "player.reset_guessed()"
   ]
  }
 ],
 "metadata": {
  "kernelspec": {
   "display_name": "rl",
   "language": "python",
   "name": "python3"
  },
  "language_info": {
   "codemirror_mode": {
    "name": "ipython",
    "version": 3
   },
   "file_extension": ".py",
   "mimetype": "text/x-python",
   "name": "python",
   "nbconvert_exporter": "python",
   "pygments_lexer": "ipython3",
   "version": "3.12.7"
  }
 },
 "nbformat": 4,
 "nbformat_minor": 2
}
