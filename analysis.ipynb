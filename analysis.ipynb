{
 "cells": [
  {
   "cell_type": "markdown",
   "metadata": {},
   "source": [
    "# Analysis"
   ]
  },
  {
   "cell_type": "markdown",
   "metadata": {},
   "source": [
    "### Setup"
   ]
  },
  {
   "cell_type": "code",
   "execution_count": 1,
   "metadata": {},
   "outputs": [],
   "source": [
    "from env import Hangman, HangmanCheat\n",
    "from network import NNAgent, Network"
   ]
  },
  {
   "cell_type": "code",
   "execution_count": 2,
   "metadata": {},
   "outputs": [],
   "source": [
    "policy_network = Network()\n",
    "policy_network.load_weights('policy.h5') #input p\n",
    "player = NNAgent(policy_network)\n",
    "player.eval() #setting to evaluation state so the agent will not memorize play history.\n",
    "player.reset_guessed()"
   ]
  },
  {
   "cell_type": "code",
   "execution_count": 3,
   "metadata": {},
   "outputs": [
    {
     "name": "stdout",
     "output_type": "stream",
     "text": [
      "Guessing a\n",
      ">> ----- | 7\n",
      "Guessing e\n",
      ">> ----- | 6\n",
      "Guessing o\n",
      ">> -o--- | 6\n",
      "Guessing i\n",
      ">> -o--- | 5\n",
      "Guessing u\n",
      ">> -ou-- | 5\n",
      "Guessing s\n",
      ">> -ou-- | 4\n",
      "Guessing n\n",
      ">> -ou-- | 3\n",
      "Guessing t\n",
      ">> -ou-t | 3\n",
      "Guessing c\n",
      ">> cou-t | 3\n",
      "Guessing r\n",
      ">> court | 3 ! You Win\n",
      "Word is 'court'\n"
     ]
    }
   ],
   "source": [
    "# test setup\n",
    "env = Hangman('words/top_1000.txt' , max_lives = 8, verbose = True)\n",
    "\n",
    "done = False\n",
    "state = env.reset()\n",
    "\n",
    "while not done :\n",
    "    guess = player.select_action(state)\n",
    "    print('Guessing', guess)\n",
    "    state, _ , done , _ = env.step(guess)\n",
    "    \n",
    "player.reset_guessed()"
   ]
  },
  {
   "cell_type": "code",
   "execution_count": 14,
   "metadata": {},
   "outputs": [
    {
     "name": "stdout",
     "output_type": "stream",
     "text": [
      "Guessing e\n",
      ">> ------- | 8 ! Rejected guess\n",
      "Guessing a\n",
      ">> ------- | 7\n",
      "Guessing o\n",
      ">> ------- | 6\n",
      "Guessing i\n",
      ">> ------- | 5\n",
      "Guessing u\n",
      ">> ------- | 5 ! Rejected guess\n",
      "Guessing y\n",
      ">> ------- | 4\n",
      "Guessing s\n",
      ">> ------- | 4 ! Rejected guess\n",
      "Guessing h\n",
      ">> ------- | 3\n",
      "Guessing r\n",
      ">> ------- | 2\n",
      "Guessing l\n",
      ">> ------- | 1\n",
      "Guessing n\n",
      ">> -----n- | 1\n",
      "Guessing g\n",
      ">> -----n- | 0 ! You Lose\n",
      "Word is 'student'\n"
     ]
    }
   ],
   "source": [
    "# test cheat setup\n",
    "env = HangmanCheat('words/top_1000.txt' , max_lives = 8, verbose = True, reject_rate=0.2)\n",
    "\n",
    "done = False\n",
    "state = env.reset()\n",
    "\n",
    "while not done :\n",
    "    guess = player.select_action(state)\n",
    "    print('Guessing', guess)\n",
    "    state, _ , done , _ = env.step(guess)\n",
    "    \n",
    "player.reset_guessed()"
   ]
  },
  {
   "cell_type": "markdown",
   "metadata": {},
   "source": [
    "## *Honest* case\n",
    "\n",
    "Analyze the given policy in the case, where the environment (so the second player) is honest.\n",
    "\n",
    "Derive how many words are guessed correctly using the top 1000 frequent words for different maximum number of guesses."
   ]
  },
  {
   "cell_type": "code",
   "execution_count": 15,
   "metadata": {},
   "outputs": [
    {
     "name": "stdout",
     "output_type": "stream",
     "text": [
      "Testing with max_lives = 1\n",
      "=====================================\n"
     ]
    },
    {
     "name": "stderr",
     "output_type": "stream",
     "text": [
      "100%|██████████| 1000/1000 [01:30<00:00, 11.11it/s]\n"
     ]
    },
    {
     "name": "stdout",
     "output_type": "stream",
     "text": [
      "Testing with max_lives = 2\n",
      "=====================================\n"
     ]
    },
    {
     "name": "stderr",
     "output_type": "stream",
     "text": [
      "100%|██████████| 1000/1000 [02:52<00:00,  5.79it/s]\n"
     ]
    },
    {
     "name": "stdout",
     "output_type": "stream",
     "text": [
      "Testing with max_lives = 3\n",
      "=====================================\n"
     ]
    },
    {
     "name": "stderr",
     "output_type": "stream",
     "text": [
      "100%|██████████| 1000/1000 [04:09<00:00,  4.01it/s]\n"
     ]
    },
    {
     "name": "stdout",
     "output_type": "stream",
     "text": [
      "Testing with max_lives = 4\n",
      "=====================================\n"
     ]
    },
    {
     "name": "stderr",
     "output_type": "stream",
     "text": [
      "100%|██████████| 1000/1000 [05:17<00:00,  3.15it/s]\n"
     ]
    },
    {
     "name": "stdout",
     "output_type": "stream",
     "text": [
      "Testing with max_lives = 5\n",
      "=====================================\n"
     ]
    },
    {
     "name": "stderr",
     "output_type": "stream",
     "text": [
      "100%|██████████| 1000/1000 [06:07<00:00,  2.72it/s]\n"
     ]
    },
    {
     "name": "stdout",
     "output_type": "stream",
     "text": [
      "Testing with max_lives = 6\n",
      "=====================================\n"
     ]
    },
    {
     "name": "stderr",
     "output_type": "stream",
     "text": [
      "100%|██████████| 1000/1000 [06:48<00:00,  2.45it/s]\n"
     ]
    },
    {
     "name": "stdout",
     "output_type": "stream",
     "text": [
      "Testing with max_lives = 7\n",
      "=====================================\n"
     ]
    },
    {
     "name": "stderr",
     "output_type": "stream",
     "text": [
      "100%|██████████| 1000/1000 [07:21<00:00,  2.27it/s]\n"
     ]
    },
    {
     "name": "stdout",
     "output_type": "stream",
     "text": [
      "Testing with max_lives = 8\n",
      "=====================================\n"
     ]
    },
    {
     "name": "stderr",
     "output_type": "stream",
     "text": [
      "100%|██████████| 1000/1000 [07:45<00:00,  2.15it/s]\n"
     ]
    },
    {
     "name": "stdout",
     "output_type": "stream",
     "text": [
      "Testing with max_lives = 9\n",
      "=====================================\n"
     ]
    },
    {
     "name": "stderr",
     "output_type": "stream",
     "text": [
      "100%|██████████| 1000/1000 [08:05<00:00,  2.06it/s]\n"
     ]
    },
    {
     "name": "stdout",
     "output_type": "stream",
     "text": [
      "Testing with max_lives = 10\n",
      "=====================================\n"
     ]
    },
    {
     "name": "stderr",
     "output_type": "stream",
     "text": [
      "100%|██████████| 1000/1000 [08:21<00:00,  2.00it/s]"
     ]
    },
    {
     "name": "stdout",
     "output_type": "stream",
     "text": [
      "{1: 0.013, 2: 0.051, 3: 0.106, 4: 0.21, 5: 0.317, 6: 0.434, 7: 0.552, 8: 0.646, 9: 0.721, 10: 0.781}\n"
     ]
    },
    {
     "name": "stderr",
     "output_type": "stream",
     "text": [
      "\n"
     ]
    }
   ],
   "source": [
    "from tqdm import tqdm\n",
    "\n",
    "# results dictionary for max_lives in range 1-10\n",
    "results = {}\n",
    "\n",
    "for max_lives in range(1, 11):\n",
    "    print(f\"Testing with max_lives = {max_lives}\")\n",
    "    print(\"=====================================\")\n",
    "\n",
    "    # (re-)initialize the environment\n",
    "    env = Hangman('words/top_1000.txt' , max_lives = max_lives, verbose = False)\n",
    "    player.reset_guessed()\n",
    "\n",
    "    # count the number of correct guesses\n",
    "    correct = 0\n",
    "\n",
    "    # loop through all the words\n",
    "    for word in tqdm(env.words):\n",
    "        # reset the environment\n",
    "        state = env.reset(word)\n",
    "        done = False\n",
    "        # play the game\n",
    "        while not done:\n",
    "            guess = player.select_action(state)\n",
    "            state, _ , done , _ = env.step(guess)\n",
    "        # check if the word is guessed correctly\n",
    "        if env.is_game_won():\n",
    "            correct += 1\n",
    "        player.reset_guessed()\n",
    "    results[max_lives] = correct / len(env.words)\n",
    "\n",
    "print(results)"
   ]
  },
  {
   "cell_type": "markdown",
   "metadata": {},
   "source": [
    "| Dataset   | max_lives | 0.0   | 0.1   | 0.2   | 0.3   | 0.4   | 0.5   | 0.6   | 0.7   | 0.8   | 0.9   | 1.0   |\n",
    "|---        |----------:|:-----:|:-----:|:-----:|:-----:|:-----:|:-----:|:-----:|:-----:|:-----:|:-----:|:-----:|\n",
    "| Top 1000  | 1         | 0.013 | 0.005 | 0.005 | 0.002 | 0.001 | 0.000 | 0.000 | 0.000 | 0.000 | 0.000 | 0.000 |\n",
    "|           | 2         | 0.051 | 0.030 | 0.020 | 0.012 | 0.011 | 0.004 | 0.001 | 0.000 | 0.000 | 0.000 | 0.000 |\n",
    "|           | 3         | 0.106 | 0.065 | 0.033 | 0.018 | 0.005 | 0.001 | 0.000 | 0.003 | 0.002 | 0.001 | 0.000 |\n",
    "|           | 4         | 0.210 | 0.127 | 0.070 | 0.040 | 0.019 | 0.013 | 0.006 | 0.003 | 0.000 | 0.000 | 0.000 |\n",
    "|           | 5         | 0.317 | 0.178 | 0.107 | 0.061 | 0.033 | 0.014 | 0.010 | 0.004 | 0.000 | 0.000 | 0.000 |\n",
    "|           | 6         | 0.434 | 0.251 | 0.155 | 0.069 | 0.046 | 0.024 | 0.009 | 0.006 | 0.003 | 0.001 | 0.000 |\n",
    "|           | 7         | 0.552 |       |       |       |       |       |       |       |       |       | 0.000 |\n",
    "|           | 8         | 0.646 | 0.375 | 0.193 | 0.128 | 0.066 | 0.038 | 0.014 | 0.006 | 0.002 | 0.002 | 0.000 |\n",
    "|           | 9         | 0.721 |       |       |       |       |       |       |       |       |       | 0.000 |\n",
    "|           | 10        | 0.781 |       |       |       |       |       |       |       |       |       | 0.000 |"
   ]
  },
  {
   "cell_type": "code",
   "execution_count": null,
   "metadata": {},
   "outputs": [],
   "source": []
  },
  {
   "cell_type": "markdown",
   "metadata": {},
   "source": [
    "## *Cheat* case\n",
    "\n",
    "Analyze the given policy in the case, where the environment (so the second player) is cheating.\n",
    "\n",
    "Keep the number of maximum guesses fixed at first. Derive how many words are guessed correctly using the top 1000 frequent words and vary the cheating factor."
   ]
  },
  {
   "cell_type": "code",
   "execution_count": null,
   "metadata": {},
   "outputs": [
    {
     "name": "stdout",
     "output_type": "stream",
     "text": [
      "Testing with max_lives = 7 reject_rate = 0.1\n",
      "=====================================\n"
     ]
    },
    {
     "name": "stderr",
     "output_type": "stream",
     "text": [
      "100%|██████████| 1000/1000 [08:09<00:00,  2.04it/s]\n"
     ]
    },
    {
     "name": "stdout",
     "output_type": "stream",
     "text": [
      "Testing with max_lives = 7 reject_rate = 0.2\n",
      "=====================================\n"
     ]
    },
    {
     "name": "stderr",
     "output_type": "stream",
     "text": [
      "100%|██████████| 1000/1000 [08:18<00:00,  2.00it/s]\n"
     ]
    },
    {
     "name": "stdout",
     "output_type": "stream",
     "text": [
      "Testing with max_lives = 7 reject_rate = 0.3\n",
      "=====================================\n"
     ]
    },
    {
     "name": "stderr",
     "output_type": "stream",
     "text": [
      "100%|██████████| 1000/1000 [08:22<00:00,  1.99it/s]\n"
     ]
    },
    {
     "name": "stdout",
     "output_type": "stream",
     "text": [
      "Testing with max_lives = 7 reject_rate = 0.4\n",
      "=====================================\n"
     ]
    },
    {
     "name": "stderr",
     "output_type": "stream",
     "text": [
      "100%|██████████| 1000/1000 [08:24<00:00,  1.98it/s]\n"
     ]
    },
    {
     "name": "stdout",
     "output_type": "stream",
     "text": [
      "Testing with max_lives = 7 reject_rate = 0.5\n",
      "=====================================\n"
     ]
    },
    {
     "name": "stderr",
     "output_type": "stream",
     "text": [
      "100%|██████████| 1000/1000 [08:22<00:00,  1.99it/s]\n"
     ]
    },
    {
     "name": "stdout",
     "output_type": "stream",
     "text": [
      "Testing with max_lives = 7 reject_rate = 0.6\n",
      "=====================================\n"
     ]
    },
    {
     "name": "stderr",
     "output_type": "stream",
     "text": [
      "100%|██████████| 1000/1000 [08:16<00:00,  2.01it/s]\n"
     ]
    },
    {
     "name": "stdout",
     "output_type": "stream",
     "text": [
      "Testing with max_lives = 7 reject_rate = 0.7\n",
      "=====================================\n"
     ]
    },
    {
     "name": "stderr",
     "output_type": "stream",
     "text": [
      "100%|██████████| 1000/1000 [08:14<00:00,  2.02it/s]\n"
     ]
    },
    {
     "name": "stdout",
     "output_type": "stream",
     "text": [
      "Testing with max_lives = 7 reject_rate = 0.8\n",
      "=====================================\n"
     ]
    },
    {
     "name": "stderr",
     "output_type": "stream",
     "text": [
      "100%|██████████| 1000/1000 [08:11<00:00,  2.03it/s]\n"
     ]
    },
    {
     "name": "stdout",
     "output_type": "stream",
     "text": [
      "Testing with max_lives = 7 reject_rate = 0.9\n",
      "=====================================\n"
     ]
    },
    {
     "name": "stderr",
     "output_type": "stream",
     "text": [
      " 11%|█▏        | 114/1000 [00:49<06:58,  2.12it/s]"
     ]
    }
   ],
   "source": [
    "from tqdm import tqdm\n",
    "\n",
    "# results dictionary for reject_rate in range 0-1 and max_lives in range 1-10\n",
    "results = {}\n",
    "\n",
    "for max_lives in [7,9,10]:#range(1, 11):\n",
    "    for reject_rate in range(1, 10):\n",
    "        reject_rate /= 10\n",
    "        print(f\"Testing with max_lives = {max_lives} reject_rate = {reject_rate}\")\n",
    "        print(\"=====================================\")\n",
    "\n",
    "        # (re-)initialize the environment\n",
    "        env = HangmanCheat('words/top_1000.txt' , max_lives = max_lives, verbose = False, reject_rate=reject_rate)\n",
    "        player.reset_guessed()\n",
    "\n",
    "        # count the number of correct guesses\n",
    "        correct = 0\n",
    "\n",
    "        # loop through all the words\n",
    "        for word in tqdm(env.words):\n",
    "            # reset the environment\n",
    "            state = env.reset(word)\n",
    "            done = False\n",
    "            # play the game\n",
    "            while not done:\n",
    "                guess = player.select_action(state)\n",
    "                state, _ , done , _ = env.step(guess)\n",
    "            # check if the word is guessed correctly\n",
    "            if env.is_game_won():\n",
    "                correct += 1\n",
    "            player.reset_guessed()\n",
    "        results[(max_lives, reject_rate)] = correct / len(env.words)\n",
    "\n",
    "    print(results)"
   ]
  }
 ],
 "metadata": {
  "kernelspec": {
   "display_name": "rl",
   "language": "python",
   "name": "python3"
  },
  "language_info": {
   "codemirror_mode": {
    "name": "ipython",
    "version": 3
   },
   "file_extension": ".py",
   "mimetype": "text/x-python",
   "name": "python",
   "nbconvert_exporter": "python",
   "pygments_lexer": "ipython3",
   "version": "3.12.7"
  }
 },
 "nbformat": 4,
 "nbformat_minor": 2
}
