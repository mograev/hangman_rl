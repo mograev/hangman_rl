{
 "cells": [
  {
   "cell_type": "markdown",
   "metadata": {},
   "source": [
    "# Analysis"
   ]
  },
  {
   "cell_type": "markdown",
   "metadata": {},
   "source": [
    "### Setup"
   ]
  },
  {
   "cell_type": "code",
   "execution_count": null,
   "metadata": {},
   "outputs": [],
   "source": [
    "from env import Hangman, HangmanCheat\n",
    "from network import NNAgent, Network, CheatAgent"
   ]
  },
  {
   "cell_type": "code",
   "execution_count": null,
   "metadata": {},
   "outputs": [],
   "source": [
    "policy_network = Network()\n",
    "policy_network.load_weights('models/policy.h5') #input p\n",
    "player = NNAgent(policy_network)\n",
    "player.eval() #setting to evaluation state so the agent will not memorize play history.\n",
    "player.reset_guessed()"
   ]
  },
  {
   "cell_type": "code",
   "execution_count": null,
   "metadata": {},
   "outputs": [],
   "source": [
    "# test setup\n",
    "env = Hangman('words/top_1000.txt' , max_lives = 8, verbose = True)\n",
    "\n",
    "done = False\n",
    "state = env.reset()\n",
    "\n",
    "while not done :\n",
    "    guess = player.select_action(state)\n",
    "    print('Guessing', guess)\n",
    "    state, _ , done , _ = env.step(guess)\n",
    "    \n",
    "player.reset_guessed()"
   ]
  },
  {
   "cell_type": "code",
   "execution_count": null,
   "metadata": {},
   "outputs": [],
   "source": [
    "# test cheat setup\n",
    "env = HangmanCheat('words/top_1000.txt' , max_lives = 8, verbose = True, reject_rate=0.2)\n",
    "\n",
    "done = False\n",
    "state = env.reset()\n",
    "\n",
    "while not done :\n",
    "    guess = player.select_action(state)\n",
    "    print('Guessing', guess)\n",
    "    state, _ , done , _ = env.step(guess)\n",
    "    \n",
    "player.reset_guessed()"
   ]
  },
  {
   "cell_type": "markdown",
   "metadata": {},
   "source": [
    "## *Honest* case\n",
    "\n",
    "Analyze the given policy in the case, where the environment (so the second player) is honest.\n",
    "\n",
    "Derive how many words are guessed correctly using the top 1000 frequent words for different maximum number of guesses."
   ]
  },
  {
   "cell_type": "code",
   "execution_count": null,
   "metadata": {},
   "outputs": [],
   "source": [
    "from tqdm import tqdm\n",
    "\n",
    "# results dictionary for max_lives in range 1-10\n",
    "results = {}\n",
    "\n",
    "for max_lives in range(1, 11):\n",
    "    print(f\"Testing with max_lives = {max_lives}\")\n",
    "    print(\"=====================================\")\n",
    "\n",
    "    # (re-)initialize the environment\n",
    "    env = Hangman('words/top_1000.txt' , max_lives = max_lives, verbose = False)\n",
    "    player.reset_guessed()\n",
    "\n",
    "    # count the number of correct guesses\n",
    "    correct = 0\n",
    "\n",
    "    # loop through all the words\n",
    "    for word in tqdm(env.words):\n",
    "        # reset the environment\n",
    "        state = env.reset(word)\n",
    "        done = False\n",
    "        # play the game\n",
    "        while not done:\n",
    "            guess = player.select_action(state)\n",
    "            state, _ , done , _ = env.step(guess)\n",
    "        # check if the word is guessed correctly\n",
    "        if env.is_game_won():\n",
    "            correct += 1\n",
    "        player.reset_guessed()\n",
    "    results[max_lives] = correct / len(env.words)\n",
    "\n",
    "print(results)"
   ]
  },
  {
   "cell_type": "markdown",
   "metadata": {},
   "source": [
    "## *Cheat* case\n",
    "\n",
    "\n",
    "### Original Policy\n",
    "Analyze the given policy in the case, where the environment (so the second player) is cheating.\n",
    "\n",
    "Keep the number of maximum guesses fixed at first. Derive how many words are guessed correctly using the top 1000 frequent words and vary the cheating factor."
   ]
  },
  {
   "cell_type": "code",
   "execution_count": null,
   "metadata": {},
   "outputs": [],
   "source": [
    "from tqdm import tqdm\n",
    "\n",
    "# results dictionary for reject_rate in range 0-1 and max_lives in range 1-10\n",
    "results = {}\n",
    "\n",
    "for max_lives in range(1, 11):\n",
    "    for reject_rate in range(0, 10):\n",
    "        reject_rate /= 10\n",
    "        print(f\"Testing with max_lives = {max_lives} reject_rate = {reject_rate}\")\n",
    "        print(\"=====================================\")\n",
    "\n",
    "        # (re-)initialize the environment\n",
    "        env = HangmanCheat('words/sample_1000.txt' , max_lives = max_lives, verbose = False, reject_rate=reject_rate)\n",
    "        player.reset_guessed()\n",
    "\n",
    "        # count the number of correct guesses\n",
    "        correct = 0\n",
    "\n",
    "        # loop through all the words\n",
    "        for word in tqdm(env.words):\n",
    "            # reset the environment\n",
    "            state = env.reset(word)\n",
    "            done = False\n",
    "            # play the game\n",
    "            while not done:\n",
    "                guess = player.select_action(state)\n",
    "                state, _ , done , _ = env.step(guess)\n",
    "            # check if the word is guessed correctly\n",
    "            if env.is_game_won():\n",
    "                correct += 1\n",
    "            player.reset_guessed()\n",
    "        results[(max_lives, reject_rate)] = correct / len(env.words)\n",
    "\n",
    "    print(results)"
   ]
  },
  {
   "cell_type": "markdown",
   "metadata": {},
   "source": [
    "### Fine-Tuned Policy\n",
    "\n",
    "Fine-tune the policy to the cheating environment. Derive how many words are guessed correctly using the top 1000 frequent words and vary the cheating factor."
   ]
  },
  {
   "cell_type": "code",
   "execution_count": null,
   "metadata": {},
   "outputs": [],
   "source": [
    "# print a loss curve for the policy at different epochs\n",
    "import matplotlib.pyplot as plt\n",
    "import numpy as np\n",
    "from tqdm import tqdm\n",
    "\n",
    "cheat_player = CheatAgent(Network())\n",
    "\n",
    "results = {\n",
    "    'epoch': [],\n",
    "    'loss': []\n",
    "}\n",
    "\n",
    "for ep in tqdm(range(0, 20001, 1000)):\n",
    "    cheat_player.load_weights(f'models/finetuned/policy_finetuned_{ep}.h5')\n",
    "    cheat_player.reset_guessed()\n",
    "    cheat_env = HangmanCheat('words/top_1000.txt' , max_lives = 6, verbose = False)\n",
    "\n",
    "    # take an average loss of 20 random sampled words\n",
    "    losses = []\n",
    "    for _ in range(20):\n",
    "        state = cheat_env.reset()\n",
    "        done = False\n",
    "        while not done:\n",
    "            guess = cheat_player.select_action(state)\n",
    "            state, reward, done, ans = cheat_env.step(guess)\n",
    "        cheat_player.finalize_episode(ans)\n",
    "        loss = cheat_player.train_model()\n",
    "        losses.append(loss)\n",
    "    \n",
    "    results['epoch'].append(ep)\n",
    "    results['loss'].append(np.mean(losses))\n",
    "\n",
    "# save the results\n",
    "import pandas as pd\n",
    "loss_df = pd.DataFrame(results)\n",
    "loss_df.to_csv('results/finetuning_loss.csv', index=False)"
   ]
  },
  {
   "cell_type": "code",
   "execution_count": null,
   "metadata": {},
   "outputs": [],
   "source": [
    "import matplotlib.pyplot as plt\n",
    "\n",
    "plt.plot(results['epoch'], results['loss'])\n",
    "plt.xlabel('Epoch')\n",
    "plt.ylabel('Loss')\n",
    "plt.title('Finetuning Loss')\n",
    "plt.tight_layout()\n",
    "plt.savefig('results/finetuning_loss.png')"
   ]
  },
  {
   "cell_type": "code",
   "execution_count": 22,
   "metadata": {},
   "outputs": [],
   "source": [
    "# load final weights\n",
    "cheat_player = CheatAgent(Network())\n",
    "cheat_player.load_weights('models/finetuned/policy_finetuned_3000.h5')\n",
    "cheat_player.eval()"
   ]
  },
  {
   "cell_type": "code",
   "execution_count": 26,
   "metadata": {},
   "outputs": [
    {
     "name": "stdout",
     "output_type": "stream",
     "text": [
      "Testing with max_lives = 9 reject_rate = 0.0\n",
      "=====================================\n"
     ]
    },
    {
     "name": "stderr",
     "output_type": "stream",
     "text": [
      "100%|██████████| 1000/1000 [09:07<00:00,  1.83it/s]\n"
     ]
    },
    {
     "name": "stdout",
     "output_type": "stream",
     "text": [
      "(9, 0.0): Win rate 0.556, Num words cheated 0, Num words doubted 221, Num words doubted correct 0\n",
      "Testing with max_lives = 9 reject_rate = 0.1\n",
      "=====================================\n"
     ]
    },
    {
     "name": "stderr",
     "output_type": "stream",
     "text": [
      "100%|██████████| 1000/1000 [09:40<00:00,  1.72it/s]\n"
     ]
    },
    {
     "name": "stdout",
     "output_type": "stream",
     "text": [
      "(9, 0.1): Win rate 0.574, Num words cheated 321, Num words doubted 374, Num words doubted correct 216\n",
      "Testing with max_lives = 9 reject_rate = 0.2\n",
      "=====================================\n"
     ]
    },
    {
     "name": "stderr",
     "output_type": "stream",
     "text": [
      "100%|██████████| 1000/1000 [09:52<00:00,  1.69it/s]\n"
     ]
    },
    {
     "name": "stdout",
     "output_type": "stream",
     "text": [
      "(9, 0.2): Win rate 0.585, Num words cheated 565, Num words doubted 454, Num words doubted correct 353\n",
      "Testing with max_lives = 9 reject_rate = 0.3\n",
      "=====================================\n"
     ]
    },
    {
     "name": "stderr",
     "output_type": "stream",
     "text": [
      "100%|██████████| 1000/1000 [10:06<00:00,  1.65it/s]\n"
     ]
    },
    {
     "name": "stdout",
     "output_type": "stream",
     "text": [
      "(9, 0.3): Win rate 0.584, Num words cheated 736, Num words doubted 526, Num words doubted correct 459\n",
      "Testing with max_lives = 9 reject_rate = 0.4\n",
      "=====================================\n"
     ]
    },
    {
     "name": "stderr",
     "output_type": "stream",
     "text": [
      "100%|██████████| 1000/1000 [10:09<00:00,  1.64it/s]\n"
     ]
    },
    {
     "name": "stdout",
     "output_type": "stream",
     "text": [
      "(9, 0.4): Win rate 0.573, Num words cheated 803, Num words doubted 548, Num words doubted correct 492\n",
      "Testing with max_lives = 9 reject_rate = 0.5\n",
      "=====================================\n"
     ]
    },
    {
     "name": "stderr",
     "output_type": "stream",
     "text": [
      "100%|██████████| 1000/1000 [10:01<00:00,  1.66it/s]\n"
     ]
    },
    {
     "name": "stdout",
     "output_type": "stream",
     "text": [
      "(9, 0.5): Win rate 0.605, Num words cheated 885, Num words doubted 572, Num words doubted correct 543\n",
      "Testing with max_lives = 9 reject_rate = 0.6\n",
      "=====================================\n"
     ]
    },
    {
     "name": "stderr",
     "output_type": "stream",
     "text": [
      "100%|██████████| 1000/1000 [10:05<00:00,  1.65it/s]\n"
     ]
    },
    {
     "name": "stdout",
     "output_type": "stream",
     "text": [
      "(9, 0.6): Win rate 0.579, Num words cheated 922, Num words doubted 566, Num words doubted correct 547\n",
      "Testing with max_lives = 9 reject_rate = 0.7\n",
      "=====================================\n"
     ]
    },
    {
     "name": "stderr",
     "output_type": "stream",
     "text": [
      "100%|██████████| 1000/1000 [09:57<00:00,  1.67it/s]\n"
     ]
    },
    {
     "name": "stdout",
     "output_type": "stream",
     "text": [
      "(9, 0.7): Win rate 0.594, Num words cheated 948, Num words doubted 572, Num words doubted correct 559\n",
      "Testing with max_lives = 9 reject_rate = 0.8\n",
      "=====================================\n"
     ]
    },
    {
     "name": "stderr",
     "output_type": "stream",
     "text": [
      "100%|██████████| 1000/1000 [10:02<00:00,  1.66it/s]\n"
     ]
    },
    {
     "name": "stdout",
     "output_type": "stream",
     "text": [
      "(9, 0.8): Win rate 0.579, Num words cheated 956, Num words doubted 583, Num words doubted correct 565\n",
      "Testing with max_lives = 9 reject_rate = 0.9\n",
      "=====================================\n"
     ]
    },
    {
     "name": "stderr",
     "output_type": "stream",
     "text": [
      "100%|██████████| 1000/1000 [10:04<00:00,  1.65it/s]\n"
     ]
    },
    {
     "name": "stdout",
     "output_type": "stream",
     "text": [
      "(9, 0.9): Win rate 0.586, Num words cheated 967, Num words doubted 581, Num words doubted correct 572\n",
      "Testing with max_lives = 9 reject_rate = 1.0\n",
      "=====================================\n"
     ]
    },
    {
     "name": "stderr",
     "output_type": "stream",
     "text": [
      "100%|██████████| 1000/1000 [09:53<00:00,  1.68it/s]\n"
     ]
    },
    {
     "name": "stdout",
     "output_type": "stream",
     "text": [
      "(9, 1.0): Win rate 0.624, Num words cheated 972, Num words doubted 605, Num words doubted correct 600\n",
      "Testing with max_lives = 10 reject_rate = 0.0\n",
      "=====================================\n"
     ]
    },
    {
     "name": "stderr",
     "output_type": "stream",
     "text": [
      "100%|██████████| 1000/1000 [09:35<00:00,  1.74it/s]\n"
     ]
    },
    {
     "name": "stdout",
     "output_type": "stream",
     "text": [
      "(10, 0.0): Win rate 0.565, Num words cheated 0, Num words doubted 287, Num words doubted correct 0\n",
      "Testing with max_lives = 10 reject_rate = 0.1\n",
      "=====================================\n"
     ]
    },
    {
     "name": "stderr",
     "output_type": "stream",
     "text": [
      "100%|██████████| 1000/1000 [10:09<00:00,  1.64it/s]\n"
     ]
    },
    {
     "name": "stdout",
     "output_type": "stream",
     "text": [
      "(10, 0.1): Win rate 0.641, Num words cheated 369, Num words doubted 476, Num words doubted correct 284\n",
      "Testing with max_lives = 10 reject_rate = 0.2\n",
      "=====================================\n"
     ]
    },
    {
     "name": "stderr",
     "output_type": "stream",
     "text": [
      "100%|██████████| 1000/1000 [10:19<00:00,  1.61it/s]\n"
     ]
    },
    {
     "name": "stdout",
     "output_type": "stream",
     "text": [
      "(10, 0.2): Win rate 0.65, Num words cheated 593, Num words doubted 552, Num words doubted correct 435\n",
      "Testing with max_lives = 10 reject_rate = 0.3\n",
      "=====================================\n"
     ]
    },
    {
     "name": "stderr",
     "output_type": "stream",
     "text": [
      "100%|██████████| 1000/1000 [10:17<00:00,  1.62it/s]\n"
     ]
    },
    {
     "name": "stdout",
     "output_type": "stream",
     "text": [
      "(10, 0.3): Win rate 0.703, Num words cheated 732, Num words doubted 644, Num words doubted correct 561\n",
      "Testing with max_lives = 10 reject_rate = 0.4\n",
      "=====================================\n"
     ]
    },
    {
     "name": "stderr",
     "output_type": "stream",
     "text": [
      "100%|██████████| 1000/1000 [10:16<00:00,  1.62it/s]\n"
     ]
    },
    {
     "name": "stdout",
     "output_type": "stream",
     "text": [
      "(10, 0.4): Win rate 0.715, Num words cheated 825, Num words doubted 686, Num words doubted correct 625\n",
      "Testing with max_lives = 10 reject_rate = 0.5\n",
      "=====================================\n"
     ]
    },
    {
     "name": "stderr",
     "output_type": "stream",
     "text": [
      "100%|██████████| 1000/1000 [10:26<00:00,  1.60it/s]\n"
     ]
    },
    {
     "name": "stdout",
     "output_type": "stream",
     "text": [
      "(10, 0.5): Win rate 0.73, Num words cheated 882, Num words doubted 706, Num words doubted correct 671\n",
      "Testing with max_lives = 10 reject_rate = 0.6\n",
      "=====================================\n"
     ]
    },
    {
     "name": "stderr",
     "output_type": "stream",
     "text": [
      "100%|██████████| 1000/1000 [10:28<00:00,  1.59it/s]\n"
     ]
    },
    {
     "name": "stdout",
     "output_type": "stream",
     "text": [
      "(10, 0.6): Win rate 0.742, Num words cheated 918, Num words doubted 717, Num words doubted correct 692\n",
      "Testing with max_lives = 10 reject_rate = 0.7\n",
      "=====================================\n"
     ]
    },
    {
     "name": "stderr",
     "output_type": "stream",
     "text": [
      "100%|██████████| 1000/1000 [10:40<00:00,  1.56it/s]\n"
     ]
    },
    {
     "name": "stdout",
     "output_type": "stream",
     "text": [
      "(10, 0.7): Win rate 0.739, Num words cheated 945, Num words doubted 718, Num words doubted correct 694\n",
      "Testing with max_lives = 10 reject_rate = 0.8\n",
      "=====================================\n"
     ]
    },
    {
     "name": "stderr",
     "output_type": "stream",
     "text": [
      "100%|██████████| 1000/1000 [10:32<00:00,  1.58it/s]\n"
     ]
    },
    {
     "name": "stdout",
     "output_type": "stream",
     "text": [
      "(10, 0.8): Win rate 0.745, Num words cheated 960, Num words doubted 730, Num words doubted correct 711\n",
      "Testing with max_lives = 10 reject_rate = 0.9\n",
      "=====================================\n"
     ]
    },
    {
     "name": "stderr",
     "output_type": "stream",
     "text": [
      "100%|██████████| 1000/1000 [10:24<00:00,  1.60it/s]\n"
     ]
    },
    {
     "name": "stdout",
     "output_type": "stream",
     "text": [
      "(10, 0.9): Win rate 0.757, Num words cheated 973, Num words doubted 748, Num words doubted correct 740\n",
      "Testing with max_lives = 10 reject_rate = 1.0\n",
      "=====================================\n"
     ]
    },
    {
     "name": "stderr",
     "output_type": "stream",
     "text": [
      "100%|██████████| 1000/1000 [10:28<00:00,  1.59it/s]"
     ]
    },
    {
     "name": "stdout",
     "output_type": "stream",
     "text": [
      "(10, 1.0): Win rate 0.726, Num words cheated 978, Num words doubted 716, Num words doubted correct 701\n"
     ]
    },
    {
     "name": "stderr",
     "output_type": "stream",
     "text": [
      "\n"
     ]
    }
   ],
   "source": [
    "from tqdm import tqdm\n",
    "\n",
    "# results dictionary for reject_rate in range 0-1 and max_lives in range 1-10\n",
    "results = {\n",
    "    'max_lives': [],\n",
    "    'reject_rate': [],\n",
    "    'win_rate': [],\n",
    "    'num_words_cheated': [],\n",
    "    'num_words_doubted': [],\n",
    "    'num_words_doubted_correct': []\n",
    "}\n",
    "\n",
    "\n",
    "for max_lives in range(9, 11):\n",
    "    for reject_rate in range(0, 11):\n",
    "        reject_rate /= 10\n",
    "        print(f\"Testing with max_lives = {max_lives} reject_rate = {reject_rate}\")\n",
    "        print(\"=====================================\")\n",
    "\n",
    "        # (re-)initialize the environment\n",
    "        env = HangmanCheat('words/top_1000.txt' , max_lives = max_lives, verbose = False, reject_rate=reject_rate)\n",
    "        cheat_player.reset_guessed()\n",
    "\n",
    "        # count the number of correct guesses\n",
    "        wins = 0\n",
    "        num_words_cheated = 0\n",
    "        num_words_doubted = 0\n",
    "        num_words_doubted_correct = 0\n",
    "\n",
    "        # loop through all the words\n",
    "        for word in tqdm(env.words):\n",
    "            # reset the environment\n",
    "            state = env.reset(word)\n",
    "            done = False\n",
    "            # play the game\n",
    "            while not done:\n",
    "                guess = cheat_player.select_action(state)\n",
    "                state, _ , done , ans = env.step(guess)\n",
    "            if env.is_game_won():\n",
    "                wins += 1\n",
    "            if ans['cheated'] == True:\n",
    "                num_words_cheated += 1\n",
    "            if ans['doubted'] == True:\n",
    "                num_words_doubted += 1\n",
    "            if ans['doubted'] == True and ans['cheated'] == True and (ans['doubted_step'] > ans['cheated_step']):\n",
    "                num_words_doubted_correct += 1\n",
    "            cheat_player.reset_guessed()\n",
    "\n",
    "        # append results to the dictionary\n",
    "        results['max_lives'].append(max_lives)\n",
    "        results['reject_rate'].append(reject_rate)\n",
    "        results['win_rate'].append(wins / len(env.words))\n",
    "        results['num_words_cheated'].append(num_words_cheated)\n",
    "        results['num_words_doubted'].append(num_words_doubted)\n",
    "        results['num_words_doubted_correct'].append(num_words_doubted_correct)\n",
    "\n",
    "        print(f\"({max_lives}, {reject_rate}): Win rate {wins / len(env.words)}, Num words cheated {num_words_cheated}, Num words doubted {num_words_doubted}, Num words doubted correct {num_words_doubted_correct}\")\n",
    "\n",
    "        # save the results\n",
    "        import pandas as pd\n",
    "        df = pd.DataFrame(results)\n",
    "        df.to_csv('results/cheat_agent_top_1000_ml9-11.csv')"
   ]
  },
  {
   "cell_type": "markdown",
   "metadata": {},
   "source": [
    "## Results"
   ]
  },
  {
   "cell_type": "markdown",
   "metadata": {},
   "source": [
    "#### Top 1000 words\n",
    "\n",
    "| max_lives | 0.0   | 0.1   | 0.2   | 0.3   | 0.4   | 0.5   | 0.6   | 0.7   | 0.8   | 0.9   | 1.0   |\n",
    "|----------:|:-----:|:-----:|:-----:|:-----:|:-----:|:-----:|:-----:|:-----:|:-----:|:-----:|:-----:|\n",
    "| 1         | 0.013 | 0.005 | 0.005 | 0.002 | 0.001 | 0.000 | 0.000 | 0.000 | 0.000 | 0.000 | 0.000 |\n",
    "| 2         | 0.051 | 0.030 | 0.020 | 0.012 | 0.011 | 0.004 | 0.001 | 0.000 | 0.000 | 0.000 | 0.000 |\n",
    "| 3         | 0.106 | 0.065 | 0.033 | 0.018 | 0.005 | 0.001 | 0.000 | 0.003 | 0.002 | 0.001 | 0.000 |\n",
    "| 4         | 0.210 | 0.127 | 0.070 | 0.040 | 0.019 | 0.013 | 0.006 | 0.003 | 0.000 | 0.000 | 0.000 |\n",
    "| 5         | 0.317 | 0.178 | 0.107 | 0.061 | 0.033 | 0.014 | 0.010 | 0.004 | 0.000 | 0.000 | 0.000 |\n",
    "| 6         | 0.434 | 0.251 | 0.155 | 0.069 | 0.046 | 0.024 | 0.009 | 0.006 | 0.003 | 0.001 | 0.000 |\n",
    "| 7         | 0.552 | 0.307 | 0.176 | 0.108 | 0.040 | 0.025 | 0.018 | 0.004 | 0.006 | 0.002 | 0.000 |\n",
    "| 8         | 0.646 | 0.375 | 0.193 | 0.128 | 0.066 | 0.038 | 0.014 | 0.006 | 0.002 | 0.002 | 0.000 |\n",
    "| 9         | 0.721 | 0.432 | 0.268 | 0.148 | 0.074 | 0.033 | 0.017 | 0.006 | 0.005 | 0.001 | 0.000 |\n",
    "| 10        | 0.781 | 0.458 | 0.274 | 0.150 | 0.082 | 0.046 | 0.017 | 0.014 | 0.002 | 0.003 | 0.000 |"
   ]
  },
  {
   "cell_type": "markdown",
   "metadata": {},
   "source": [
    "#### Sample 1000 words\n",
    "\n",
    "| max_lives | 0.0   | 0.1   | 0.2   | 0.3   | 0.4   | 0.5   | 0.6   | 0.7   | 0.8   | 0.9   | 1.0   |\n",
    "|----------:|:-----:|:-----:|:-----:|:-----:|:-----:|:-----:|:-----:|:-----:|:-----:|:-----:|:-----:|\n",
    "| 1         | 0.020 | 0.008 | 0.002 | 0.000 | 0.001 | 0.000 | 0.000 | 0.000 | 0.000 | 0.000 | 0.000 |\n",
    "| 2         | 0.067 | 0.030 | 0.015 | 0.006 | 0.002 | 0.001 | 0.000 | 0.000 | 0.001 | 0.000 | 0.000 |\n",
    "| 3         | 0.148 | 0.079 | 0.032 | 0.022 | 0.004 | 0.004 | 0.000 | 0.000 | 0.000 | 0.000 | 0.000 |\n",
    "| 4         | 0.239 | 0.113 | 0.057 | 0.022 | 0.009 | 0.005 | 0.000 | 0.002 | 0.000 | 0.000 | 0.000 |\n",
    "| 5         | 0.360 | 0.188 | 0.090 | 0.051 | 0.018 | 0.008 | 0.001 | 0.002 | 0.001 | 0.000 | 0.000 |\n",
    "| 6         | 0.493 | 0.268 | 0.128 | 0.066 | 0.025 | 0.015 | 0.007 | 0.003 | 0.000 | 0.000 | 0.000 |\n",
    "| 7         | 0.581 | 0.291 | 0.152 | 0.066 | 0.045 | 0.017 | 0.006 | 0.001 | 0.000 | 0.000 | 0.000 |\n",
    "| 8         | 0.659 | 0.338 | 0.197 | 0.080 | 0.035 | 0.017 | 0.006 | 0.003 | 0.000 | 0.000 | 0.000 |\n",
    "| 9         | 0.730 | 0.377 | 0.200 | 0.099 | 0.043 | 0.020 | 0.005 | 0.001 | 0.000 | 0.001 | 0.000 |\n",
    "| 10        | 0.777 | 0.414 | 0.226 | 0.094 | 0.051 | 0.025 | 0.009 | 0.005 | 0.000 | 0.001 | 0.000 |"
   ]
  }
 ],
 "metadata": {
  "kernelspec": {
   "display_name": "rl",
   "language": "python",
   "name": "python3"
  },
  "language_info": {
   "codemirror_mode": {
    "name": "ipython",
    "version": 3
   },
   "file_extension": ".py",
   "mimetype": "text/x-python",
   "name": "python",
   "nbconvert_exporter": "python",
   "pygments_lexer": "ipython3",
   "version": "3.12.7"
  }
 },
 "nbformat": 4,
 "nbformat_minor": 2
}
